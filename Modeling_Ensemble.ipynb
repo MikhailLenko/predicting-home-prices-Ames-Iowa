{
 "cells": [
  {
   "cell_type": "code",
   "execution_count": 1,
   "metadata": {},
   "outputs": [],
   "source": [
    "import numpy as np\n",
    "import pandas as pd"
   ]
  },
  {
   "cell_type": "code",
   "execution_count": 6,
   "metadata": {},
   "outputs": [],
   "source": [
    "# Reading in various submission sets\n",
    "ridge      = pd.read_csv('./data/ridge_without_pca.csv')\n",
    "lasso      = pd.read_csv('./data/lasso_without_pca.csv')\n",
    "elastic    = pd.read_csv('./data/elastic.csv')\n",
    "lasso_poly = pd.read_csv('./data/poly.csv')\n",
    "lasso_pca  = pd.read_csv('./data/lasso_pca.csv')\n",
    "tree_bag   = pd.read_csv('./data/tree_bag.csv')\n",
    "rf         = pd.read_csv('./data/rand_for.csv')\n",
    "et         = pd.read_csv('./data/extra_trees.csv')\n",
    "ada        = pd.read_csv('./data/ada.csv')\n",
    "gradb      = pd.read_csv('./data/grad.csv')\n",
    "xgb        = pd.read_csv('./data/xgb.csv')\n",
    "xgbrf      = pd.read_csv('./data/xgrf.csv')\n",
    "# To facilitate submission\n",
    "submission_index = list(range(1461,2920))"
   ]
  },
  {
   "cell_type": "code",
   "execution_count": 7,
   "metadata": {},
   "outputs": [
    {
     "data": {
      "text/html": [
       "<div>\n",
       "<style scoped>\n",
       "    .dataframe tbody tr th:only-of-type {\n",
       "        vertical-align: middle;\n",
       "    }\n",
       "\n",
       "    .dataframe tbody tr th {\n",
       "        vertical-align: top;\n",
       "    }\n",
       "\n",
       "    .dataframe thead th {\n",
       "        text-align: right;\n",
       "    }\n",
       "</style>\n",
       "<table border=\"1\" class=\"dataframe\">\n",
       "  <thead>\n",
       "    <tr style=\"text-align: right;\">\n",
       "      <th></th>\n",
       "      <th>ridge</th>\n",
       "      <th>lasso</th>\n",
       "      <th>elastic</th>\n",
       "      <th>lasso_poly</th>\n",
       "      <th>lasso_pca</th>\n",
       "      <th>bagged_trees</th>\n",
       "      <th>random_forest</th>\n",
       "      <th>extra_trees</th>\n",
       "      <th>ada_boost</th>\n",
       "      <th>gradient_boost</th>\n",
       "      <th>xg_boost</th>\n",
       "      <th>xg_boost_rf</th>\n",
       "      <th>SalePrice</th>\n",
       "    </tr>\n",
       "  </thead>\n",
       "  <tbody>\n",
       "    <tr>\n",
       "      <th>0</th>\n",
       "      <td>115273.876331</td>\n",
       "      <td>112487.186434</td>\n",
       "      <td>112492.320674</td>\n",
       "      <td>111001.196727</td>\n",
       "      <td>111968.536781</td>\n",
       "      <td>112359.131155</td>\n",
       "      <td>112603.917122</td>\n",
       "      <td>110764.613056</td>\n",
       "      <td>117666.666667</td>\n",
       "      <td>113770.348085</td>\n",
       "      <td>114983.11</td>\n",
       "      <td>114130.82</td>\n",
       "      <td>113291.810253</td>\n",
       "    </tr>\n",
       "    <tr>\n",
       "      <th>1</th>\n",
       "      <td>146008.149911</td>\n",
       "      <td>141210.465814</td>\n",
       "      <td>141237.727682</td>\n",
       "      <td>140512.497134</td>\n",
       "      <td>147605.471153</td>\n",
       "      <td>136587.875924</td>\n",
       "      <td>140803.977600</td>\n",
       "      <td>139929.824751</td>\n",
       "      <td>149700.000000</td>\n",
       "      <td>135147.940341</td>\n",
       "      <td>137856.55</td>\n",
       "      <td>123891.81</td>\n",
       "      <td>140041.024193</td>\n",
       "    </tr>\n",
       "    <tr>\n",
       "      <th>2</th>\n",
       "      <td>161830.948052</td>\n",
       "      <td>163368.934913</td>\n",
       "      <td>163378.935316</td>\n",
       "      <td>151925.232325</td>\n",
       "      <td>166689.236281</td>\n",
       "      <td>173450.333616</td>\n",
       "      <td>177711.280822</td>\n",
       "      <td>171434.603439</td>\n",
       "      <td>176500.000000</td>\n",
       "      <td>156875.857330</td>\n",
       "      <td>164283.06</td>\n",
       "      <td>173598.44</td>\n",
       "      <td>166753.905174</td>\n",
       "    </tr>\n",
       "    <tr>\n",
       "      <th>3</th>\n",
       "      <td>190410.276848</td>\n",
       "      <td>186100.526428</td>\n",
       "      <td>186121.213501</td>\n",
       "      <td>179658.157705</td>\n",
       "      <td>195776.478761</td>\n",
       "      <td>178858.813650</td>\n",
       "      <td>181171.232642</td>\n",
       "      <td>189969.941324</td>\n",
       "      <td>180000.000000</td>\n",
       "      <td>188749.775264</td>\n",
       "      <td>178435.84</td>\n",
       "      <td>182505.72</td>\n",
       "      <td>184813.164677</td>\n",
       "    </tr>\n",
       "    <tr>\n",
       "      <th>4</th>\n",
       "      <td>190346.784524</td>\n",
       "      <td>191203.801496</td>\n",
       "      <td>191225.427782</td>\n",
       "      <td>203376.245386</td>\n",
       "      <td>183998.153542</td>\n",
       "      <td>183130.266570</td>\n",
       "      <td>185870.129749</td>\n",
       "      <td>185294.213595</td>\n",
       "      <td>179666.666667</td>\n",
       "      <td>166219.262429</td>\n",
       "      <td>178101.25</td>\n",
       "      <td>207861.75</td>\n",
       "      <td>187191.162645</td>\n",
       "    </tr>\n",
       "  </tbody>\n",
       "</table>\n",
       "</div>"
      ],
      "text/plain": [
       "           ridge          lasso        elastic     lasso_poly      lasso_pca  \\\n",
       "0  115273.876331  112487.186434  112492.320674  111001.196727  111968.536781   \n",
       "1  146008.149911  141210.465814  141237.727682  140512.497134  147605.471153   \n",
       "2  161830.948052  163368.934913  163378.935316  151925.232325  166689.236281   \n",
       "3  190410.276848  186100.526428  186121.213501  179658.157705  195776.478761   \n",
       "4  190346.784524  191203.801496  191225.427782  203376.245386  183998.153542   \n",
       "\n",
       "    bagged_trees  random_forest    extra_trees      ada_boost  gradient_boost  \\\n",
       "0  112359.131155  112603.917122  110764.613056  117666.666667   113770.348085   \n",
       "1  136587.875924  140803.977600  139929.824751  149700.000000   135147.940341   \n",
       "2  173450.333616  177711.280822  171434.603439  176500.000000   156875.857330   \n",
       "3  178858.813650  181171.232642  189969.941324  180000.000000   188749.775264   \n",
       "4  183130.266570  185870.129749  185294.213595  179666.666667   166219.262429   \n",
       "\n",
       "    xg_boost  xg_boost_rf      SalePrice  \n",
       "0  114983.11    114130.82  113291.810253  \n",
       "1  137856.55    123891.81  140041.024193  \n",
       "2  164283.06    173598.44  166753.905174  \n",
       "3  178435.84    182505.72  184813.164677  \n",
       "4  178101.25    207861.75  187191.162645  "
      ]
     },
     "execution_count": 7,
     "metadata": {},
     "output_type": "execute_result"
    }
   ],
   "source": [
    "# Instantiating a DataFrame for all model predictions\n",
    "models = pd.DataFrame(columns=['ridge',\n",
    "                               'lasso',\n",
    "                               'elastic',\n",
    "                               'lasso_poly',\n",
    "                               'lasso_pca',\n",
    "                               'bagged_trees',\n",
    "                               'random_forest',\n",
    "                               'extra_trees',\n",
    "                               'ada_boost',\n",
    "                               'gradient_boost',\n",
    "                               'xg_boost',\n",
    "                               'xg_boost_rf'])\n",
    "\n",
    "# Informing values for model predictions\n",
    "models['ridge']         = ridge['SalePrice']\n",
    "models['lasso']         = lasso['SalePrice']\n",
    "models['elastic']       = elastic['SalePrice']\n",
    "models['lasso_poly']    = lasso_poly['SalePrice']\n",
    "models['lasso_pca']     = lasso_pca['SalePrice']\n",
    "models['bagged_trees']  = tree_bag['SalePrice']\n",
    "models['random_forest'] = rf['SalePrice']\n",
    "models['extra_trees']   = et['SalePrice']\n",
    "models['ada_boost']     = ada['SalePrice']\n",
    "models['gradient_boost']= gradb['SalePrice']\n",
    "models['xg_boost']      = xgb['SalePrice']\n",
    "models['xg_boost_rf']   = xgbrf['SalePrice']\n",
    "\n",
    "# Averaging predictions for ensemble prediction\n",
    "models['SalePrice'] = models.mean(axis='columns')\n",
    "\n",
    "models.head()"
   ]
  },
  {
   "cell_type": "code",
   "execution_count": 8,
   "metadata": {},
   "outputs": [],
   "source": [
    "# Instantiating DataFrame for submission\n",
    "ensemble = pd.DataFrame(columns=['Id','SalePrice'])\n",
    "ensemble['Id'] = submission_index\n",
    "ensemble['SalePrice'] = models['SalePrice']"
   ]
  },
  {
   "cell_type": "code",
   "execution_count": 9,
   "metadata": {},
   "outputs": [],
   "source": [
    "# Exporting to .csv\n",
    "ensemble.to_csv('./data/ensemble.csv',index=False)"
   ]
  },
  {
   "cell_type": "markdown",
   "metadata": {},
   "source": [
    "#### Kaggle score:\n",
    "    - RMSLE: 0.1653"
   ]
  },
  {
   "cell_type": "code",
   "execution_count": 12,
   "metadata": {},
   "outputs": [],
   "source": [
    "# Creating feature that averages the AVG (above) with the best model\n",
    "models['adj_SalePrice'] = (models['SalePrice']+models['lasso'])/2"
   ]
  },
  {
   "cell_type": "code",
   "execution_count": 15,
   "metadata": {},
   "outputs": [],
   "source": [
    "adj_ensemble = pd.DataFrame(columns=['Id','SalePrice'])\n",
    "adj_ensemble['Id'] = submission_index\n",
    "adj_ensemble['SalePrice'] = models['adj_SalePrice']"
   ]
  },
  {
   "cell_type": "code",
   "execution_count": 16,
   "metadata": {},
   "outputs": [],
   "source": [
    "adj_ensemble.to_csv('./data/adj_ensemble.csv', index=False)"
   ]
  },
  {
   "cell_type": "markdown",
   "metadata": {},
   "source": [
    "#### Kaggle score:\n",
    "    - RMSLE: 0.1625"
   ]
  }
 ],
 "metadata": {
  "kernelspec": {
   "display_name": "Python 3",
   "language": "python",
   "name": "python3"
  },
  "language_info": {
   "codemirror_mode": {
    "name": "ipython",
    "version": 3
   },
   "file_extension": ".py",
   "mimetype": "text/x-python",
   "name": "python",
   "nbconvert_exporter": "python",
   "pygments_lexer": "ipython3",
   "version": "3.6.8"
  }
 },
 "nbformat": 4,
 "nbformat_minor": 2
}
