{
 "cells": [
  {
   "cell_type": "code",
   "execution_count": 1,
   "metadata": {},
   "outputs": [],
   "source": [
    "import numpy as np\n",
    "import pandas as pd"
   ]
  },
  {
   "cell_type": "code",
   "execution_count": 2,
   "metadata": {},
   "outputs": [],
   "source": [
    "# Reading in various submission sets\n",
    "ridge      = pd.read_csv('./data/ridge_without_pca.csv')\n",
    "lasso      = pd.read_csv('./data/lasso_without_pca.csv')\n",
    "lasso_poly = pd.read_csv('./data/poly.csv')\n",
    "lasso_pca  = pd.read_csv('./data/lasso_pca.csv')\n",
    "tree_bag   = pd.read_csv('./data/tree_bag.csv')\n",
    "rf         = pd.read_csv('./data/rand_for.csv')\n",
    "et         = pd.read_csv('./data/extra_trees.csv')\n",
    "# To facilitate submission\n",
    "submission_index = list(range(1461,2920))"
   ]
  },
  {
   "cell_type": "code",
   "execution_count": 3,
   "metadata": {},
   "outputs": [
    {
     "data": {
      "text/html": [
       "<div>\n",
       "<style scoped>\n",
       "    .dataframe tbody tr th:only-of-type {\n",
       "        vertical-align: middle;\n",
       "    }\n",
       "\n",
       "    .dataframe tbody tr th {\n",
       "        vertical-align: top;\n",
       "    }\n",
       "\n",
       "    .dataframe thead th {\n",
       "        text-align: right;\n",
       "    }\n",
       "</style>\n",
       "<table border=\"1\" class=\"dataframe\">\n",
       "  <thead>\n",
       "    <tr style=\"text-align: right;\">\n",
       "      <th></th>\n",
       "      <th>ridge</th>\n",
       "      <th>lasso</th>\n",
       "      <th>lasso_poly</th>\n",
       "      <th>lasso_pca</th>\n",
       "      <th>bagged_trees</th>\n",
       "      <th>random_forest</th>\n",
       "      <th>extra_trees</th>\n",
       "      <th>SalePrice</th>\n",
       "    </tr>\n",
       "  </thead>\n",
       "  <tbody>\n",
       "    <tr>\n",
       "      <th>0</th>\n",
       "      <td>115273.876331</td>\n",
       "      <td>112487.186434</td>\n",
       "      <td>111001.196727</td>\n",
       "      <td>111968.536781</td>\n",
       "      <td>112201.920004</td>\n",
       "      <td>116529.617476</td>\n",
       "      <td>114443.324452</td>\n",
       "      <td>113415.094029</td>\n",
       "    </tr>\n",
       "    <tr>\n",
       "      <th>1</th>\n",
       "      <td>146008.149911</td>\n",
       "      <td>141210.465814</td>\n",
       "      <td>140512.497134</td>\n",
       "      <td>147605.471153</td>\n",
       "      <td>137490.948978</td>\n",
       "      <td>141346.923984</td>\n",
       "      <td>140971.867178</td>\n",
       "      <td>142163.760593</td>\n",
       "    </tr>\n",
       "    <tr>\n",
       "      <th>2</th>\n",
       "      <td>161830.948052</td>\n",
       "      <td>163368.934913</td>\n",
       "      <td>151925.232325</td>\n",
       "      <td>166689.236281</td>\n",
       "      <td>174819.141026</td>\n",
       "      <td>174405.855402</td>\n",
       "      <td>171514.626411</td>\n",
       "      <td>166364.853487</td>\n",
       "    </tr>\n",
       "    <tr>\n",
       "      <th>3</th>\n",
       "      <td>190410.276848</td>\n",
       "      <td>186100.526428</td>\n",
       "      <td>179658.157705</td>\n",
       "      <td>195776.478761</td>\n",
       "      <td>179462.388340</td>\n",
       "      <td>182384.170138</td>\n",
       "      <td>192713.760149</td>\n",
       "      <td>186643.679767</td>\n",
       "    </tr>\n",
       "    <tr>\n",
       "      <th>4</th>\n",
       "      <td>190346.784524</td>\n",
       "      <td>191203.801496</td>\n",
       "      <td>203376.245386</td>\n",
       "      <td>183998.153542</td>\n",
       "      <td>182377.718039</td>\n",
       "      <td>183526.128272</td>\n",
       "      <td>183736.750216</td>\n",
       "      <td>188366.511639</td>\n",
       "    </tr>\n",
       "  </tbody>\n",
       "</table>\n",
       "</div>"
      ],
      "text/plain": [
       "           ridge          lasso     lasso_poly      lasso_pca   bagged_trees  \\\n",
       "0  115273.876331  112487.186434  111001.196727  111968.536781  112201.920004   \n",
       "1  146008.149911  141210.465814  140512.497134  147605.471153  137490.948978   \n",
       "2  161830.948052  163368.934913  151925.232325  166689.236281  174819.141026   \n",
       "3  190410.276848  186100.526428  179658.157705  195776.478761  179462.388340   \n",
       "4  190346.784524  191203.801496  203376.245386  183998.153542  182377.718039   \n",
       "\n",
       "   random_forest    extra_trees      SalePrice  \n",
       "0  116529.617476  114443.324452  113415.094029  \n",
       "1  141346.923984  140971.867178  142163.760593  \n",
       "2  174405.855402  171514.626411  166364.853487  \n",
       "3  182384.170138  192713.760149  186643.679767  \n",
       "4  183526.128272  183736.750216  188366.511639  "
      ]
     },
     "execution_count": 3,
     "metadata": {},
     "output_type": "execute_result"
    }
   ],
   "source": [
    "# Instantiating a DataFrame for all model predictions\n",
    "models = pd.DataFrame(columns=['ridge',\n",
    "                               'lasso',\n",
    "                               'lasso_poly',\n",
    "                               'lasso_pca',\n",
    "                               'bagged_trees',\n",
    "                               'random_forest',\n",
    "                               'extra_trees'])\n",
    "\n",
    "# Informing values for model predictions\n",
    "models['ridge']         = ridge['SalePrice']\n",
    "models['lasso']         = lasso['SalePrice']\n",
    "models['lasso_poly']    = lasso_poly['SalePrice']\n",
    "models['lasso_pca']     = lasso_pca['SalePrice']\n",
    "models['bagged_trees']  = tree_bag['SalePrice']\n",
    "models['random_forest'] = rf['SalePrice']\n",
    "models['extra_trees']   = et['SalePrice']\n",
    "\n",
    "# Averaging predictions for ensemble prediction\n",
    "models['SalePrice'] = models.mean(axis='columns')\n",
    "\n",
    "models.head()"
   ]
  },
  {
   "cell_type": "code",
   "execution_count": 4,
   "metadata": {},
   "outputs": [],
   "source": [
    "# Instantiating DataFrame for submission\n",
    "ensemble = pd.DataFrame(columns=['Id','SalePrice'])\n",
    "ensemble['Id'] = submission_index\n",
    "ensemble['SalePrice'] = models['SalePrice']"
   ]
  },
  {
   "cell_type": "code",
   "execution_count": 5,
   "metadata": {},
   "outputs": [],
   "source": [
    "# Exporting to .csv\n",
    "ensemble.to_csv('./data/ensemble.csv',index=False)"
   ]
  },
  {
   "cell_type": "markdown",
   "metadata": {},
   "source": [
    "#### Kaggle score:\n",
    "    - RMSLE: 0.1613"
   ]
  }
 ],
 "metadata": {
  "kernelspec": {
   "display_name": "Python 3",
   "language": "python",
   "name": "python3"
  },
  "language_info": {
   "codemirror_mode": {
    "name": "ipython",
    "version": 3
   },
   "file_extension": ".py",
   "mimetype": "text/x-python",
   "name": "python",
   "nbconvert_exporter": "python",
   "pygments_lexer": "ipython3",
   "version": "3.6.8"
  }
 },
 "nbformat": 4,
 "nbformat_minor": 2
}
