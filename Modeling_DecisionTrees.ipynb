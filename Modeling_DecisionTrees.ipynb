{
 "cells": [
  {
   "cell_type": "code",
   "execution_count": 1,
   "metadata": {},
   "outputs": [],
   "source": [
    "import numpy as np\n",
    "import pandas as pd\n",
    "import seaborn as sns\n",
    "import matplotlib.pyplot as plt\n",
    "from sklearn.model_selection import train_test_split, cross_val_score, GridSearchCV\n",
    "from sklearn.pipeline import Pipeline\n",
    "from sklearn.tree import DecisionTreeRegressor\n",
    "from sklearn.ensemble import RandomForestRegressor, ExtraTreesRegressor, BaggingRegressor"
   ]
  },
  {
   "cell_type": "code",
   "execution_count": 2,
   "metadata": {},
   "outputs": [],
   "source": [
    "# Reading in TRAIN (df) and TEST (fd) data\n",
    "df = pd.read_csv('./data/df_select_features.csv')\n",
    "fd = pd.read_csv('./data/fd_select_features.csv')\n",
    "# To facilitate Kaggle submissions\n",
    "submission_index = list(range(1461,2920))\n",
    "# For referncing feature names\n",
    "cols = list(fd.columns.values)"
   ]
  },
  {
   "cell_type": "code",
   "execution_count": 3,
   "metadata": {},
   "outputs": [],
   "source": [
    "X = df.drop(columns=['SalePrice'])\n",
    "y = df['SalePrice']"
   ]
  },
  {
   "cell_type": "code",
   "execution_count": 4,
   "metadata": {},
   "outputs": [],
   "source": [
    "X_train, X_test, y_train, y_test = train_test_split(X,\n",
    "                                                    y,\n",
    "                                                    random_state=42)"
   ]
  },
  {
   "cell_type": "markdown",
   "metadata": {},
   "source": [
    "# Decision Tree Regression\n",
    "    - Bagged Decision Trees Regressor\n",
    "    - Random Forests Regressor\n",
    "    - Extremely Random Trees Regressor"
   ]
  },
  {
   "cell_type": "markdown",
   "metadata": {},
   "source": [
    "### Bagged Decision Tree Regressors"
   ]
  },
  {
   "cell_type": "code",
   "execution_count": 5,
   "metadata": {},
   "outputs": [
    {
     "name": "stderr",
     "output_type": "stream",
     "text": [
      "/Users/mikhaillenko/anaconda3/lib/python3.6/site-packages/sklearn/model_selection/_split.py:1978: FutureWarning: The default value of cv will change from 3 to 5 in version 0.22. Specify it explicitly to silence this warning.\n",
      "  warnings.warn(CV_WARNING, FutureWarning)\n"
     ]
    },
    {
     "data": {
      "text/plain": [
       "GridSearchCV(cv='warn', error_score='raise-deprecating',\n",
       "             estimator=DecisionTreeRegressor(criterion='mse', max_depth=None,\n",
       "                                             max_features=None,\n",
       "                                             max_leaf_nodes=None,\n",
       "                                             min_impurity_decrease=0.0,\n",
       "                                             min_impurity_split=None,\n",
       "                                             min_samples_leaf=1,\n",
       "                                             min_samples_split=2,\n",
       "                                             min_weight_fraction_leaf=0.0,\n",
       "                                             presort=False, random_state=None,\n",
       "                                             splitter='best'),\n",
       "             iid='warn', n_jobs=None,\n",
       "             param_grid={'max_depth': [None, 5, 10, 15, 20],\n",
       "                         'max_features': [None, 5, 10, 15],\n",
       "                         'max_leaf_nodes': [None, 5, 10, 15],\n",
       "                         'min_samples_split': [2, 4, 6, 8]},\n",
       "             pre_dispatch='2*n_jobs', refit=True, return_train_score=False,\n",
       "             scoring=None, verbose=0)"
      ]
     },
     "execution_count": 5,
     "metadata": {},
     "output_type": "execute_result"
    }
   ],
   "source": [
    "dtree = DecisionTreeRegressor()\n",
    "\n",
    "param_grid = {'max_depth':[None,5,10,15,20],\n",
    "              'min_samples_split':[2,4,6,8],\n",
    "              'max_features':[None,5,10,15],\n",
    "              'max_leaf_nodes':[None,5,10,15]}\n",
    "\n",
    "gs_dtree = GridSearchCV(dtree, param_grid)\n",
    "\n",
    "gs_dtree.fit(X_train, y_train)"
   ]
  },
  {
   "cell_type": "code",
   "execution_count": 6,
   "metadata": {},
   "outputs": [
    {
     "name": "stdout",
     "output_type": "stream",
     "text": [
      "(DTree) Mean cross validation score: 0.7726\n",
      "(DTree) Root mean squared log error: 35365.9878\n",
      "\n",
      "(DTree) Best parameters, GridSearch: {'max_depth': 10, 'max_features': 15, 'max_leaf_nodes': None, 'min_samples_split': 4}\n"
     ]
    }
   ],
   "source": [
    "# Generating predictions based on best model evaluated by GridSearch\n",
    "dtree_preds = (gs_dtree.best_estimator_).predict(X_test)\n",
    "\n",
    "print(f'(DTree) Mean cross validation score: {round(gs_dtree.best_score_, 4)}')\n",
    "print(f'(DTree) Root mean squared log error: {round(((y_test-dtree_preds)**2).mean()**(1/2),4)}')\n",
    "print()\n",
    "print(f'(DTree) Best parameters, GridSearch: {gs_dtree.best_params_}')"
   ]
  },
  {
   "cell_type": "code",
   "execution_count": 10,
   "metadata": {},
   "outputs": [
    {
     "data": {
      "text/plain": [
       "(362, 1000)"
      ]
     },
     "execution_count": 10,
     "metadata": {},
     "output_type": "execute_result"
    }
   ],
   "source": [
    "# Bootstrapping and bagging trees\n",
    "\n",
    "bag_df = pd.DataFrame(index=X_test.index)\n",
    "\n",
    "for i in range(1000):\n",
    "    # Random sampling with replacement\n",
    "    X_sample = X_train.sample(n=X_train.shape[0],\n",
    "                              replace=True)\n",
    "    # Ensuring our random samples align with their label\n",
    "    y_sample = y[X_sample.index]\n",
    "    \n",
    "    # Model configured according to GridSearch best_params_\n",
    "    tree = DecisionTreeRegressor(max_depth=10,\n",
    "                                 max_features=15,\n",
    "                                 max_leaf_nodes=None,\n",
    "                                 min_samples_split=8)\n",
    "    # Fitting models\n",
    "    tree.fit(X_sample, y_sample)\n",
    "    \n",
    "    # Appending predictions to DataFrame\n",
    "    bag_df[f'Tree {i}'] = tree.predict(X_test)\n",
    "    \n",
    "bag_df.shape"
   ]
  },
  {
   "cell_type": "code",
   "execution_count": 29,
   "metadata": {},
   "outputs": [
    {
     "name": "stdout",
     "output_type": "stream",
     "text": [
      "Root mean squared logarithmic error: 0.1221\n",
      "Mean cross validation score: 0.7278833957249772\n"
     ]
    },
    {
     "name": "stderr",
     "output_type": "stream",
     "text": [
      "/Users/mikhaillenko/anaconda3/lib/python3.6/site-packages/sklearn/model_selection/_split.py:1978: FutureWarning: The default value of cv will change from 3 to 5 in version 0.22. Specify it explicitly to silence this warning.\n",
      "  warnings.warn(CV_WARNING, FutureWarning)\n"
     ]
    }
   ],
   "source": [
    "bag_df['SalePrice'] = bag_df.mean(axis='columns')\n",
    "\n",
    "RMSLE = ((np.log(y_test)-np.log(bag_df['SalePrice']))**2).mean()**(1/2)\n",
    "print(f'Root mean squared logarithmic error: {round(RMSLE,4)}')\n",
    "print(f'Mean cross validation score: {cross_val_score(dtree, X_train, y_train).mean()}')"
   ]
  },
  {
   "cell_type": "code",
   "execution_count": null,
   "metadata": {},
   "outputs": [],
   "source": [
    "cross_val_score(dtree, X, y)"
   ]
  },
  {
   "cell_type": "code",
   "execution_count": 20,
   "metadata": {},
   "outputs": [],
   "source": [
    "# Creating DataFrame for submission\n",
    "tree_bag = pd.DataFrame(index=fd.index)\n",
    "\n",
    "for i in range(1000):\n",
    "    X_sample = X.sample(n=X.shape[0],\n",
    "                         replace=True)\n",
    "    y_sample = y[X_sample.index]\n",
    "    \n",
    "    tree = DecisionTreeRegressor(max_depth=10,\n",
    "                                 max_features=15,\n",
    "                                 max_leaf_nodes=None,\n",
    "                                 min_samples_split=8)\n",
    "    tree.fit(X_sample,y_sample)\n",
    "    \n",
    "    tree_bag[f'Tree {i}'] = tree.predict(fd)"
   ]
  },
  {
   "cell_type": "code",
   "execution_count": 21,
   "metadata": {},
   "outputs": [],
   "source": [
    "tree_bag['SalePrice'] = tree_bag.mean(axis='columns')"
   ]
  },
  {
   "cell_type": "code",
   "execution_count": 23,
   "metadata": {},
   "outputs": [],
   "source": [
    "# Creating submission DataFrame\n",
    "tree_bag_submission = pd.DataFrame(columns=['Id','SalePrice'])\n",
    "tree_bag_submission['Id'] = submission_index\n",
    "tree_bag_submission['SalePrice'] = tree_bag['SalePrice']\n",
    "\n",
    "# Exporting to .csv\n",
    "tree_bag_submission.to_csv('./data/tree_bag.csv',index=False)"
   ]
  },
  {
   "cell_type": "markdown",
   "metadata": {},
   "source": [
    "#### Kaggle score:\n",
    "    - RMSLE: 0.1834"
   ]
  },
  {
   "cell_type": "markdown",
   "metadata": {},
   "source": [
    "### Random Forest Regressor"
   ]
  },
  {
   "cell_type": "code",
   "execution_count": 43,
   "metadata": {},
   "outputs": [
    {
     "name": "stderr",
     "output_type": "stream",
     "text": [
      "/Users/mikhaillenko/anaconda3/lib/python3.6/site-packages/sklearn/model_selection/_split.py:1978: FutureWarning: The default value of cv will change from 3 to 5 in version 0.22. Specify it explicitly to silence this warning.\n",
      "  warnings.warn(CV_WARNING, FutureWarning)\n",
      "[Parallel(n_jobs=1)]: Using backend SequentialBackend with 1 concurrent workers.\n"
     ]
    },
    {
     "name": "stdout",
     "output_type": "stream",
     "text": [
      "Fitting 3 folds for each of 108 candidates, totalling 324 fits\n"
     ]
    },
    {
     "name": "stderr",
     "output_type": "stream",
     "text": [
      "[Parallel(n_jobs=1)]: Done 324 out of 324 | elapsed:  2.4min finished\n"
     ]
    },
    {
     "data": {
      "text/plain": [
       "GridSearchCV(cv='warn', error_score='raise-deprecating',\n",
       "             estimator=RandomForestRegressor(bootstrap=True, criterion='mse',\n",
       "                                             max_depth=None,\n",
       "                                             max_features='auto',\n",
       "                                             max_leaf_nodes=None,\n",
       "                                             min_impurity_decrease=0.0,\n",
       "                                             min_impurity_split=None,\n",
       "                                             min_samples_leaf=1,\n",
       "                                             min_samples_split=2,\n",
       "                                             min_weight_fraction_leaf=0.0,\n",
       "                                             n_estimators='warn', n_jobs=None,\n",
       "                                             oob_score=False, random_state=42,\n",
       "                                             verbose=0, warm_start=False),\n",
       "             iid='warn', n_jobs=None,\n",
       "             param_grid={'max_depth': [None, 15], 'max_features': [3, 4, 5],\n",
       "                         'max_leaf_nodes': [None, 15],\n",
       "                         'min_samples_split': [2, 3, 4],\n",
       "                         'n_estimators': [200, 300, 400]},\n",
       "             pre_dispatch='2*n_jobs', refit=True, return_train_score=False,\n",
       "             scoring=None, verbose=1)"
      ]
     },
     "execution_count": 43,
     "metadata": {},
     "output_type": "execute_result"
    }
   ],
   "source": [
    "# Instantiating Random Forrest Regressor\n",
    "rf = RandomForestRegressor(random_state=42)\n",
    "\n",
    "param_grid = {'n_estimators':[200,300,400],\n",
    "              'max_depth':[None,15],\n",
    "              'min_samples_split':[2,3,4],\n",
    "              'max_features':[3,4,5],\n",
    "              'max_leaf_nodes':[None,15]}\n",
    "\n",
    "gs_ranfo = GridSearchCV(rf, param_grid, verbose=1)\n",
    "\n",
    "gs_ranfo.fit(X_train, y_train)"
   ]
  },
  {
   "cell_type": "code",
   "execution_count": 26,
   "metadata": {},
   "outputs": [
    {
     "name": "stdout",
     "output_type": "stream",
     "text": [
      "(RandF) Mean cross validation score: 0.8717\n",
      "(RandF) Root mean squared log error: 0.1177\n",
      "\n",
      "Best parameters: {'max_depth': 15, 'max_features': 5, 'max_leaf_nodes': None, 'min_samples_split': 3, 'n_estimators': 200}\n"
     ]
    }
   ],
   "source": [
    "rf_preds = (gs_ranfo.best_estimator_).predict(X_test)\n",
    "\n",
    "print(f'(RandF) Mean cross validation score: {round(gs_ranfo.best_score_,4)}')\n",
    "print(f'(RandF) Root mean squared log error: {round(((np.log(y_test)-np.log(rf_preds))**2).mean()**(1/2),4)}')\n",
    "\n",
    "print()\n",
    "print(f'Best parameters: {gs_ranfo.best_params_}')"
   ]
  },
  {
   "cell_type": "code",
   "execution_count": 33,
   "metadata": {},
   "outputs": [],
   "source": [
    "# Instantiating model according to GridSearch parameters\n",
    "rf = RandomForestRegressor(max_depth=15,\n",
    "                           max_features=5,\n",
    "                           max_leaf_nodes=None,\n",
    "                           min_samples_split=3,\n",
    "                           n_estimators=200)\n",
    "\n",
    "# Fitting model to entire training set for submission\n",
    "rf.fit(X,y)\n",
    "\n",
    "# Generating predictions for submission\n",
    "rf_preds = rf.predict(fd)\n",
    "\n",
    "# Creating DataFrame for submission\n",
    "rf_df = pd.DataFrame(columns=['Id','SalePrice'])\n",
    "rf_df['Id'] = submission_index\n",
    "rf_df['SalePrice'] = rf_preds"
   ]
  },
  {
   "cell_type": "code",
   "execution_count": 34,
   "metadata": {},
   "outputs": [],
   "source": [
    "rf_df.to_csv('./data/rand_for.csv', index=False)"
   ]
  },
  {
   "cell_type": "markdown",
   "metadata": {},
   "source": [
    "#### Kaggle score:\n",
    "    - RMSLE: 0.1727"
   ]
  },
  {
   "cell_type": "markdown",
   "metadata": {},
   "source": [
    "### Extemely Random Trees Regressor"
   ]
  },
  {
   "cell_type": "code",
   "execution_count": 37,
   "metadata": {},
   "outputs": [
    {
     "name": "stderr",
     "output_type": "stream",
     "text": [
      "/Users/mikhaillenko/anaconda3/lib/python3.6/site-packages/sklearn/model_selection/_split.py:1978: FutureWarning: The default value of cv will change from 3 to 5 in version 0.22. Specify it explicitly to silence this warning.\n",
      "  warnings.warn(CV_WARNING, FutureWarning)\n",
      "[Parallel(n_jobs=1)]: Using backend SequentialBackend with 1 concurrent workers.\n"
     ]
    },
    {
     "name": "stdout",
     "output_type": "stream",
     "text": [
      "Fitting 3 folds for each of 108 candidates, totalling 324 fits\n"
     ]
    },
    {
     "name": "stderr",
     "output_type": "stream",
     "text": [
      "[Parallel(n_jobs=1)]: Done 324 out of 324 | elapsed:  1.9min finished\n"
     ]
    },
    {
     "data": {
      "text/plain": [
       "GridSearchCV(cv='warn', error_score='raise-deprecating',\n",
       "             estimator=ExtraTreesRegressor(bootstrap=False, criterion='mse',\n",
       "                                           max_depth=None, max_features='auto',\n",
       "                                           max_leaf_nodes=None,\n",
       "                                           min_impurity_decrease=0.0,\n",
       "                                           min_impurity_split=None,\n",
       "                                           min_samples_leaf=1,\n",
       "                                           min_samples_split=2,\n",
       "                                           min_weight_fraction_leaf=0.0,\n",
       "                                           n_estimators='warn', n_jobs=None,\n",
       "                                           oob_score=False, random_state=42,\n",
       "                                           verbose=0, warm_start=False),\n",
       "             iid='warn', n_jobs=None,\n",
       "             param_grid={'max_depth': [None, 15], 'max_features': [3, 4, 5],\n",
       "                         'max_leaf_nodes': [None, 15],\n",
       "                         'min_samples_split': [2, 3, 4],\n",
       "                         'n_estimators': [200, 300, 400]},\n",
       "             pre_dispatch='2*n_jobs', refit=True, return_train_score=False,\n",
       "             scoring=None, verbose=1)"
      ]
     },
     "execution_count": 37,
     "metadata": {},
     "output_type": "execute_result"
    }
   ],
   "source": [
    "et = ExtraTreesRegressor(random_state=42)\n",
    "\n",
    "param_grid = {'n_estimators':[200, 300, 400],\n",
    "              'max_depth':[None,15],\n",
    "              'min_samples_split':[2,3,4],\n",
    "              'max_features':[3,4,5],\n",
    "              'max_leaf_nodes':[None,15]}\n",
    "\n",
    "gs_extra = GridSearchCV(et, param_grid, verbose=1)\n",
    "\n",
    "gs_extra.fit(X_train, y_train)"
   ]
  },
  {
   "cell_type": "code",
   "execution_count": 39,
   "metadata": {},
   "outputs": [
    {
     "name": "stdout",
     "output_type": "stream",
     "text": [
      "(Extra) Mean cross validation score: 0.8635\n",
      "(Extra) Root mean squared log error: 0.1219\n",
      "\n",
      "(Extra) Best parameters: {'max_depth': 15, 'max_features': 5, 'max_leaf_nodes': None, 'min_samples_split': 2, 'n_estimators': 300}\n"
     ]
    }
   ],
   "source": [
    "et_preds = (gs_extra.best_estimator_).predict(X_test)\n",
    "\n",
    "print(f'(Extra) Mean cross validation score: {round(gs_extra.best_score_,4)}')\n",
    "print(f'(Extra) Root mean squared log error: {round(((np.log(y_test)-np.log(et_preds))**2).mean()**(1/2),4)}')\n",
    "print()\n",
    "print(f'(Extra) Best parameters: {gs_extra.best_params_}')"
   ]
  },
  {
   "cell_type": "code",
   "execution_count": 41,
   "metadata": {},
   "outputs": [],
   "source": [
    "# Instantiating model according to GridSearch parameters\n",
    "et = ExtraTreesRegressor(max_depth=15,\n",
    "                         max_features=5,\n",
    "                         max_leaf_nodes=None,\n",
    "                         min_samples_split=2,\n",
    "                         n_estimators=300)\n",
    "\n",
    "# Fitting model to entire training set for submission\n",
    "et.fit(X,y)\n",
    "\n",
    "# Generating predictions for submission\n",
    "et_preds = et.predict(fd)\n",
    "\n",
    "# Creating DataFrame for submission\n",
    "et_df = pd.DataFrame(columns=['Id','SalePrice'])\n",
    "et_df['Id'] = submission_index\n",
    "et_df['SalePrice'] = et_preds"
   ]
  },
  {
   "cell_type": "code",
   "execution_count": 42,
   "metadata": {},
   "outputs": [],
   "source": [
    "et_df.to_csv('./data/extra_trees.csv', index=False)"
   ]
  },
  {
   "cell_type": "markdown",
   "metadata": {},
   "source": [
    "#### Kaggle score:\n",
    "    - RMSLE: 0.1644"
   ]
  }
 ],
 "metadata": {
  "kernelspec": {
   "display_name": "Python 3",
   "language": "python",
   "name": "python3"
  },
  "language_info": {
   "codemirror_mode": {
    "name": "ipython",
    "version": 3
   },
   "file_extension": ".py",
   "mimetype": "text/x-python",
   "name": "python",
   "nbconvert_exporter": "python",
   "pygments_lexer": "ipython3",
   "version": "3.6.8"
  }
 },
 "nbformat": 4,
 "nbformat_minor": 2
}
